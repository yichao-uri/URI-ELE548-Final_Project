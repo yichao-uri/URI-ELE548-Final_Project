{
 "cells": [
  {
   "cell_type": "code",
   "execution_count": 1,
   "id": "cedd9e26",
   "metadata": {},
   "outputs": [],
   "source": [
    "from pynq import Overlay\n",
    "from pynq import allocate\n",
    "from pynq import MMIO\n",
    "import numpy as np\n",
    "import time\n",
    "import copy"
   ]
  },
  {
   "cell_type": "code",
   "execution_count": 2,
   "id": "27b68c2c",
   "metadata": {},
   "outputs": [
    {
     "data": {
      "application/javascript": [
       "\n",
       "try {\n",
       "require(['notebook/js/codecell'], function(codecell) {\n",
       "  codecell.CodeCell.options_default.highlight_modes[\n",
       "      'magic_text/x-csrc'] = {'reg':[/^%%microblaze/]};\n",
       "  Jupyter.notebook.events.one('kernel_ready.Kernel', function(){\n",
       "      Jupyter.notebook.get_cells().map(function(cell){\n",
       "          if (cell.cell_type == 'code'){ cell.auto_highlight(); } }) ;\n",
       "  });\n",
       "});\n",
       "} catch (e) {};\n"
      ]
     },
     "metadata": {},
     "output_type": "display_data"
    },
    {
     "data": {
      "application/javascript": [
       "\n",
       "try {\n",
       "require(['notebook/js/codecell'], function(codecell) {\n",
       "  codecell.CodeCell.options_default.highlight_modes[\n",
       "      'magic_text/x-csrc'] = {'reg':[/^%%pybind11/]};\n",
       "  Jupyter.notebook.events.one('kernel_ready.Kernel', function(){\n",
       "      Jupyter.notebook.get_cells().map(function(cell){\n",
       "          if (cell.cell_type == 'code'){ cell.auto_highlight(); } }) ;\n",
       "  });\n",
       "});\n",
       "} catch (e) {};\n"
      ]
     },
     "metadata": {},
     "output_type": "display_data"
    }
   ],
   "source": [
    "hw = Overlay('RBM.bit')"
   ]
  },
  {
   "cell_type": "code",
   "execution_count": 3,
   "id": "1f4b3da7",
   "metadata": {},
   "outputs": [],
   "source": [
    "# DMA init\n",
    "mm2s_control_in = hw.dma_control_in.sendchannel\n",
    "mm2s_sigmoid_switch_in = hw.dma_sigmoid_switch_in.sendchannel\n",
    "mm2s_vector_in_len = hw.dma_vector_in_len_in.sendchannel\n",
    "mm2s_vector_out_len = hw.dma_vector_out_len_in.sendchannel\n",
    "mm2s_vector_in = hw.dma_vector_inout.sendchannel\n",
    "s2mm_vector_out = hw.dma_vector_inout.recvchannel\n",
    "mm2s_weight_in = hw.dma_weight_in.sendchannel\n",
    "mm2s_bias_in = hw.dma_bias_in.sendchannel"
   ]
  },
  {
   "cell_type": "code",
   "execution_count": 4,
   "id": "d1a93680",
   "metadata": {},
   "outputs": [],
   "source": [
    "# control signal value\n",
    "CTRL_IDLE = np.uint8(0)\n",
    "CTRL_SIZE_IN = np.uint8(1)\n",
    "CTRL_WEIGHT_IN = np.uint8(2)\n",
    "CTRL_BIAS_IN = np.uint8(3)\n",
    "CTRL_START = np.uint8(4)"
   ]
  },
  {
   "cell_type": "code",
   "execution_count": 5,
   "id": "43c106ad",
   "metadata": {},
   "outputs": [],
   "source": [
    "# RBM parameters and test data\n",
    "weight_folder_path = './parameters/'\n",
    "w_name_list = [\n",
    "    ['w_128_16.npy', 128, 16, '128_16'],\n",
    "    ['w_128_32.npy', 128, 32, '128_32'],\n",
    "    ['w_128_64.npy', 128, 64, '128_64'],\n",
    "    ['w_256_16.npy', 256, 16, '256_16'],\n",
    "    ['w_256_32.npy', 256, 32, '256_32'],\n",
    "    ['w_256_64.npy', 256, 64, '256_64'],\n",
    "    ['w_256_128.npy', 256, 128, '256_128'],\n",
    "    ['w_512_16.npy', 512, 16, '512_16'],\n",
    "    ['w_512_32.npy', 512, 32, '512_32'],\n",
    "    ['w_512_64.npy', 512, 64, '512_64'],\n",
    "    ['w_512_128.npy', 512, 128, '512_128'],\n",
    "    ['w_512_256.npy', 512, 256, '512_256']\n",
    "]\n",
    "hidden_bias_folder_path = './parameters/'\n",
    "hb_name_list = [\n",
    "    ['hb_128_16.npy', 128, 16, '128_16'],\n",
    "    ['hb_128_32.npy', 128, 32, '128_32'],\n",
    "    ['hb_128_64.npy', 128, 64, '128_64'],\n",
    "    ['hb_256_16.npy', 256, 16, '256_16'],\n",
    "    ['hb_256_32.npy', 256, 32, '256_32'],\n",
    "    ['hb_256_64.npy', 256, 64, '256_64'],\n",
    "    ['hb_256_128.npy', 256, 128, '256_128'],\n",
    "    ['hb_512_16.npy', 512, 16, '512_16'],\n",
    "    ['hb_512_32.npy', 512, 32, '512_32'],\n",
    "    ['hb_512_64.npy', 512, 64, '512_64'],\n",
    "    ['hb_512_128.npy', 512, 128, '512_128'],\n",
    "    ['hb_512_256.npy', 512, 256, '512_256']\n",
    "]\n",
    "visible_bias_folder_path = './parameters/'\n",
    "vb_name_list = [\n",
    "    ['vb_128_16.npy', 128, 16, '128_16'],\n",
    "    ['vb_128_32.npy', 128, 32, '128_32'],\n",
    "    ['vb_128_64.npy', 128, 64, '128_64'],\n",
    "    ['vb_256_16.npy', 256, 16, '256_16'],\n",
    "    ['vb_256_32.npy', 256, 32, '256_32'],\n",
    "    ['vb_256_64.npy', 256, 64, '256_64'],\n",
    "    ['vb_256_128.npy', 256, 128, '256_128'],\n",
    "    ['vb_512_16.npy', 512, 16, '512_16'],\n",
    "    ['vb_512_32.npy', 512, 32, '512_32'],\n",
    "    ['vb_512_64.npy', 512, 64, '512_64'],\n",
    "    ['vb_512_128.npy', 512, 128, '512_128'],\n",
    "    ['vb_512_256.npy', 512, 256, '512_256']\n",
    "]\n",
    "data_folder_path = './input data/'\n",
    "data_name_list = [\n",
    "    ['real_64.npy', 64, 'real_64'],\n",
    "    ['real_128.npy', 128, 'real_128'],\n",
    "    ['real_256.npy', 256, 'real_256'],\n",
    "    ['real_512.npy', 512, 'real_512'],\n",
    "    ['imaginary_64.npy', 64, 'imag_64'],\n",
    "    ['imaginary_128.npy', 128, 'imag_128'],\n",
    "    ['imaginary_256.npy', 256, 'imag_256'],\n",
    "    ['imaginary_512.npy', 512, 'imag_512'],\n",
    "]\n",
    "def weight_read(weight_tag):\n",
    "    weight_file_name = []\n",
    "    weight = []\n",
    "    for index1, element in enumerate(w_name_list):\n",
    "        if weight_tag == element[3]:\n",
    "            weight_file_name = element[0]\n",
    "            break\n",
    "    if weight_file_name == []:\n",
    "        pass\n",
    "    else:\n",
    "        path_weight_file = weight_folder_path + weight_file_name\n",
    "        weight = np.load(path_weight_file)\n",
    "    return weight\n",
    "\n",
    "def hidden_bias_read(hidden_bias_tag):\n",
    "    hidden_bias_file_name = []\n",
    "    hidden_bias = []\n",
    "    for index1, element in enumerate(hb_name_list):\n",
    "        if hidden_bias_tag == element[3]:\n",
    "            hidden_bias_file_name = element[0]\n",
    "            break\n",
    "    if hidden_bias_file_name == []:\n",
    "        pass\n",
    "    else:\n",
    "        path_hidden_bias_file = hidden_bias_folder_path + hidden_bias_file_name\n",
    "        hidden_bias = np.load(path_hidden_bias_file)\n",
    "    return hidden_bias\n",
    "\n",
    "def visible_bias_read(visible_bias_tag):\n",
    "    visible_bias_file_name = []\n",
    "    visible_bias = []\n",
    "    for index1, element in enumerate(vb_name_list):\n",
    "        if visible_bias_tag == element[3]:\n",
    "            visible_bias_file_name = element[0]\n",
    "            break\n",
    "    if visible_bias_file_name == []:\n",
    "        pass\n",
    "    else:\n",
    "        path_visible_bias_file = visible_bias_folder_path + visible_bias_file_name\n",
    "        with open(path_visible_bias_file, encoding='utf-8') as file:\n",
    "            visible_bias = file.read()\n",
    "        visible_bias = visible_bias.split()\n",
    "        visible_bias = list(map(lambda vb: float(vb), visible_bias))\n",
    "        visible_bias = np.array(visible_bias)\n",
    "        visible_bias = visible_bias.reshape([element[1], 1])\n",
    "    return visible_bias\n",
    "\n",
    "def visible_bias_read(visible_bias_tag):\n",
    "    visible_bias_file_name = []\n",
    "    visible_bias = []\n",
    "    for index1, element in enumerate(vb_name_list):\n",
    "        if visible_bias_tag == element[3]:\n",
    "            visible_bias_file_name = element[0]\n",
    "            break\n",
    "    if visible_bias_file_name == []:\n",
    "        pass\n",
    "    else:\n",
    "        path_visible_bias_file = visible_bias_folder_path + visible_bias_file_name\n",
    "        visible_bias = np.load(path_visible_bias_file)\n",
    "    return visible_bias\n",
    "\n",
    "def data_read(data_tag):\n",
    "    data_file_name = []\n",
    "    data = []\n",
    "    for index1, element in enumerate(data_name_list):\n",
    "        if data_tag == element[2]:\n",
    "            data_file_name = element[0]\n",
    "            break\n",
    "    if data_file_name == []:\n",
    "        pass\n",
    "    else:\n",
    "        path_data_file = data_folder_path + data_file_name\n",
    "        data = np.load(path_data_file)\n",
    "    return data"
   ]
  },
  {
   "cell_type": "code",
   "execution_count": 6,
   "id": "077d8a78",
   "metadata": {},
   "outputs": [],
   "source": [
    "def RBM_init(vector_in_len, vector_out_len, sigmoid_switch, weight, bias):\n",
    "    # memory allocate\n",
    "    control_in_Buf = allocate(shape=(2,), dtype = np.uint8)\n",
    "    sigmoid_switch_Buf = allocate(shape=(2,), dtype = np.uint8)\n",
    "    vector_in_len_Buf = allocate(shape=(2,), dtype = np.uint16)\n",
    "    vector_out_len_Buf = allocate(shape=(2,), dtype = np.uint16)\n",
    "    weight_in_Buf = allocate(shape=(vector_in_len * vector_out_len), dtype = np.float32)\n",
    "    bias_in_Buf = allocate(shape=(vector_out_len), dtype = np.float32)\n",
    "    \n",
    "    # sigmoid switch dma input\n",
    "    sigmoid_switch_Buf[:] = np.uint8(sigmoid_switch)\n",
    "    mm2s_sigmoid_switch_in.transfer(sigmoid_switch_Buf)\n",
    "    mm2s_sigmoid_switch_in.wait()\n",
    "    \n",
    "    # RBM size dma input\n",
    "    control_in_Buf[:] =  np.uint8(CTRL_SIZE_IN)  # CTRL_SIZE_IN\n",
    "    mm2s_control_in.transfer(control_in_Buf)\n",
    "    mm2s_control_in.wait()\n",
    "    \n",
    "    vector_in_len_Buf[:] = np.uint16(vector_in_len)\n",
    "    mm2s_vector_in_len.transfer(vector_in_len_Buf)\n",
    "    mm2s_vector_in_len.wait()\n",
    "    \n",
    "    vector_out_len_Buf[:] = np.uint16(vector_out_len)\n",
    "    mm2s_vector_out_len.transfer(vector_out_len_Buf)\n",
    "    mm2s_vector_out_len.wait()\n",
    "    \n",
    "    # weight dma input\n",
    "    control_in_Buf[:] = np.uint8(CTRL_WEIGHT_IN)\n",
    "    mm2s_control_in.transfer(control_in_Buf)\n",
    "    mm2s_control_in.wait()\n",
    "    \n",
    "    weight_in_Buf[:] = np.float32(weight.reshape(-1,)[:])\n",
    "    mm2s_weight_in.transfer(weight_in_Buf)\n",
    "    mm2s_weight_in.wait()\n",
    "    \n",
    "    # bias dma input\n",
    "    control_in_Buf[:] = np.uint8(CTRL_BIAS_IN)\n",
    "    mm2s_control_in.transfer(control_in_Buf)\n",
    "    mm2s_control_in.wait()\n",
    "    \n",
    "    bias_in_Buf[:] = np.float32(bias.reshape(-1)[:])\n",
    "    mm2s_bias_in.transfer(bias_in_Buf)\n",
    "    mm2s_bias_in.wait()\n",
    "    \n",
    "    # IDLE input\n",
    "    control_in_Buf[:] = np.uint8(CTRL_IDLE)\n",
    "    mm2s_control_in.transfer(control_in_Buf)\n",
    "    mm2s_control_in.wait()"
   ]
  },
  {
   "cell_type": "code",
   "execution_count": 7,
   "id": "a2e3d937",
   "metadata": {},
   "outputs": [],
   "source": [
    "def sigmoid(vector_in):\n",
    "    vector_out = 1/(1+np.exp(-vector_in))\n",
    "    return vector_out\n",
    "\n",
    "def RBM_computing_numpy(vector_in, weight, bias, vector_in_len, vector_out_len, N, sigmoid_en):\n",
    "    vector_out = np.zeros([N * vector_out_len, 1])\n",
    "    time_start = time.time()\n",
    "    for i1 in np.arange(N):\n",
    "        vector_out[i1*vector_out_len:(i1+1)*vector_out_len] = np.matmul(vector_in[i1*vector_in_len:(i1+1)*vector_in_len].T, weight[:, :]).T\n",
    "        vector_out[i1*vector_out_len:(i1+1)*vector_out_len] = vector_out[i1*vector_out_len:(i1+1)*vector_out_len] + bias[:]\n",
    "        if sigmoid_en != 0:\n",
    "            vector_out[i1*vector_out_len:(i1+1)*vector_out_len] = sigmoid(vector_out[i1*vector_out_len:(i1+1)*vector_out_len])\n",
    "    time_end = time.time()\n",
    "    time_cost = time_end - time_start\n",
    "    return vector_out, time_cost\n",
    "\n",
    "def RBM_computing_fpga(vector_in, control_in_Buf, vector_in_Buf, vector_out_Buf):\n",
    "    control_in_Buf[:] =  np.uint8(CTRL_START) \n",
    "    vector_in_Buf[:] = np.int16(vector_in.reshape(-1)[:])\n",
    "    mm2s_control_in.wait()\n",
    "    time_start = time.time()\n",
    "    mm2s_control_in.transfer(control_in_Buf)\n",
    "    mm2s_vector_in.transfer(vector_in_Buf)\n",
    "    s2mm_vector_out.transfer(vector_out_Buf)\n",
    "    mm2s_vector_in.wait()\n",
    "    s2mm_vector_out.wait()\n",
    "    time_end = time.time()\n",
    "    time_cost = time_end - time_start\n",
    "    vector_out = np.array(vector_out_Buf)\n",
    "    return vector_out, time_cost"
   ]
  },
  {
   "cell_type": "code",
   "execution_count": 8,
   "id": "d6d4bd84",
   "metadata": {},
   "outputs": [],
   "source": [
    "def numpy_fpga_test(vector_in_len, vector_out_len, sigmoid_switch):\n",
    "    N = int(32768)\n",
    "    M = int(32768 / N)\n",
    "    vector_in_len = 128\n",
    "    vector_out_len = 16\n",
    "    sigmoid_switch = 1\n",
    "\n",
    "    parameters_tag = str(vector_in_len) + '_' + str(vector_out_len)\n",
    "    weight = weight_read(parameters_tag)\n",
    "    bias = hidden_bias_read(parameters_tag)\n",
    "    data_tag = 'real_' + str(vector_in_len)\n",
    "    data = data_read(data_tag)\n",
    "    RBM_init(vector_in_len, vector_out_len, sigmoid_switch, weight, bias)\n",
    "\n",
    "    RBM_np_out = np.zeros([32768, vector_out_len])\n",
    "    # np_start_time = time.time()\n",
    "    np_time_cost = 0\n",
    "    for index1 in np.arange(M):\n",
    "        RBM_in = data[index1*N:(index1+1)*N, :]\n",
    "        vector_in = RBM_in.reshape(-1, 1)[:]\n",
    "        vector_out, time_cost = RBM_computing_numpy(vector_in, weight, bias, vector_in_len, vector_out_len, N, sigmoid_switch)\n",
    "        RBM_np_out[index1*N:(index1+1)*N, :] = vector_out.reshape(-1, vector_out_len)\n",
    "        np_time_cost = np_time_cost + time_cost\n",
    "    # np_end_time = time.time()\n",
    "    # np_time_cost = np_end_time - np_start_time\n",
    "\n",
    "    RBM_fpga_out = np.zeros([32768, vector_out_len])\n",
    "    control_in_Buf = allocate(shape=(2,), dtype = np.uint8)\n",
    "    vector_in_Buf = allocate(shape=(vector_in_len*N,), dtype = np.int16)\n",
    "    vector_out_Buf = allocate(shape=(vector_out_len*N,), dtype = np.float32)\n",
    "    # fpga_start_time = time.time()\n",
    "    fpga_time_cost = 0\n",
    "    for index1 in np.arange(M):\n",
    "        RBM_in = data[index1*N:(index1+1)*N, :]\n",
    "        vector_in = RBM_in.reshape(-1, 1)[:]\n",
    "        vector_out, time_cost = RBM_computing_fpga(vector_in, control_in_Buf, vector_in_Buf, vector_out_Buf)\n",
    "        RBM_fpga_out[index1*N:(index1+1)*N, :] = vector_out.reshape(-1, vector_out_len)\n",
    "        fpga_time_cost = fpga_time_cost + time_cost\n",
    "    # fpga_end_time = time.time()\n",
    "    # fpga_time_cost = fpga_end_time - fpga_start_time\n",
    "    absolute_error = np.sum(abs(RBM_np_out - RBM_fpga_out))/np.sum(abs(RBM_np_out))\n",
    "    print(f'Numpy time cost = {np_time_cost}s')\n",
    "    print(f'FPGA time cost = {fpga_time_cost}s')\n",
    "    print(f'Numpy throughput = {vector_in_len*32768/np_time_cost/1e6}M')\n",
    "    print(f'FPGA throughput cost = {vector_in_len*32768/fpga_time_cost/1e6}M')\n",
    "    print(f'acceleration ratio = {np_time_cost/fpga_time_cost}')\n",
    "    print(f'error = {absolute_error}')"
   ]
  },
  {
   "cell_type": "code",
   "execution_count": 9,
   "id": "c12093d8",
   "metadata": {},
   "outputs": [
    {
     "name": "stderr",
     "output_type": "stream",
     "text": [
      "/tmp/ipykernel_6182/3904903070.py:2: RuntimeWarning: overflow encountered in exp\n",
      "  vector_out = 1/(1+np.exp(-vector_in))\n"
     ]
    },
    {
     "name": "stdout",
     "output_type": "stream",
     "text": [
      "Numpy time cost = 12.284239530563354s\n",
      "FPGA time cost = 0.08551740646362305s\n",
      "Numpy throughput = 0.341437822794363M\n",
      "FPGA throughput cost = 49.04620209435551M\n",
      "acceleration ratio = 143.64607205187824\n",
      "error = 4.593223112589297e-08\n"
     ]
    }
   ],
   "source": [
    "vector_in_len = 128\n",
    "vector_out_len = 16\n",
    "sigmoid_switch = 1\n",
    "numpy_fpga_test(vector_in_len, vector_out_len, sigmoid_switch)"
   ]
  },
  {
   "cell_type": "code",
   "execution_count": 10,
   "id": "29e31c29",
   "metadata": {},
   "outputs": [
    {
     "name": "stderr",
     "output_type": "stream",
     "text": [
      "/tmp/ipykernel_6182/3904903070.py:2: RuntimeWarning: overflow encountered in exp\n",
      "  vector_out = 1/(1+np.exp(-vector_in))\n"
     ]
    },
    {
     "name": "stdout",
     "output_type": "stream",
     "text": [
      "Numpy time cost = 11.976669549942017s\n",
      "FPGA time cost = 0.08833551406860352s\n",
      "Numpy throughput = 0.3502062056993387M\n",
      "FPGA throughput cost = 47.48151458928061M\n",
      "acceleration ratio = 135.58159112133137\n",
      "error = 4.593223112589297e-08\n"
     ]
    }
   ],
   "source": [
    "vector_in_len = 128\n",
    "vector_out_len = 32\n",
    "sigmoid_switch = 1\n",
    "numpy_fpga_test(vector_in_len, vector_out_len, sigmoid_switch)"
   ]
  },
  {
   "cell_type": "code",
   "execution_count": 11,
   "id": "b4e95edd",
   "metadata": {},
   "outputs": [
    {
     "name": "stderr",
     "output_type": "stream",
     "text": [
      "/tmp/ipykernel_6182/3904903070.py:2: RuntimeWarning: overflow encountered in exp\n",
      "  vector_out = 1/(1+np.exp(-vector_in))\n"
     ]
    },
    {
     "name": "stdout",
     "output_type": "stream",
     "text": [
      "Numpy time cost = 11.556419849395752s\n",
      "FPGA time cost = 0.0882720947265625s\n",
      "Numpy throughput = 0.36294146930109217M\n",
      "FPGA throughput cost = 47.51562782091616M\n",
      "acceleration ratio = 130.91815579083837\n",
      "error = 4.593223112589297e-08\n"
     ]
    }
   ],
   "source": [
    "vector_in_len = 128\n",
    "vector_out_len = 64\n",
    "sigmoid_switch = 1\n",
    "numpy_fpga_test(vector_in_len, vector_out_len, sigmoid_switch)"
   ]
  },
  {
   "cell_type": "code",
   "execution_count": 12,
   "id": "e5a6ff2c",
   "metadata": {},
   "outputs": [
    {
     "name": "stderr",
     "output_type": "stream",
     "text": [
      "/tmp/ipykernel_6182/3904903070.py:2: RuntimeWarning: overflow encountered in exp\n",
      "  vector_out = 1/(1+np.exp(-vector_in))\n"
     ]
    },
    {
     "name": "stdout",
     "output_type": "stream",
     "text": [
      "Numpy time cost = 11.684956073760986s\n",
      "FPGA time cost = 0.08829855918884277s\n",
      "Numpy throughput = 0.3589490601011731M\n",
      "FPGA throughput cost = 47.5013866424446M\n",
      "acceleration ratio = 132.33461770050573\n",
      "error = 4.593223112589297e-08\n"
     ]
    }
   ],
   "source": [
    "vector_in_len = 256\n",
    "vector_out_len = 16\n",
    "sigmoid_switch = 1\n",
    "numpy_fpga_test(vector_in_len, vector_out_len, sigmoid_switch)"
   ]
  },
  {
   "cell_type": "code",
   "execution_count": 13,
   "id": "78a5aa07",
   "metadata": {},
   "outputs": [
    {
     "name": "stderr",
     "output_type": "stream",
     "text": [
      "/tmp/ipykernel_6182/3904903070.py:2: RuntimeWarning: overflow encountered in exp\n",
      "  vector_out = 1/(1+np.exp(-vector_in))\n"
     ]
    },
    {
     "name": "stdout",
     "output_type": "stream",
     "text": [
      "Numpy time cost = 12.23525357246399s\n",
      "FPGA time cost = 0.08833789825439453s\n",
      "Numpy throughput = 0.34280482829056175M\n",
      "FPGA throughput cost = 47.48023309227132M\n",
      "acceleration ratio = 138.50514687624826\n",
      "error = 4.593223112589297e-08\n"
     ]
    }
   ],
   "source": [
    "vector_in_len = 256\n",
    "vector_out_len = 32\n",
    "sigmoid_switch = 1\n",
    "numpy_fpga_test(vector_in_len, vector_out_len, sigmoid_switch)"
   ]
  },
  {
   "cell_type": "code",
   "execution_count": 14,
   "id": "ec6ff26c",
   "metadata": {},
   "outputs": [
    {
     "name": "stderr",
     "output_type": "stream",
     "text": [
      "/tmp/ipykernel_6182/3904903070.py:2: RuntimeWarning: overflow encountered in exp\n",
      "  vector_out = 1/(1+np.exp(-vector_in))\n"
     ]
    },
    {
     "name": "stdout",
     "output_type": "stream",
     "text": [
      "Numpy time cost = 12.025245904922485s\n",
      "FPGA time cost = 0.08817458152770996s\n",
      "Numpy throughput = 0.3487915368352741M\n",
      "FPGA throughput cost = 47.56817585441999M\n",
      "acceleration ratio = 136.37996003580014\n",
      "error = 4.593223112589297e-08\n"
     ]
    }
   ],
   "source": [
    "vector_in_len = 256\n",
    "vector_out_len = 64\n",
    "sigmoid_switch = 1\n",
    "numpy_fpga_test(vector_in_len, vector_out_len, sigmoid_switch)"
   ]
  },
  {
   "cell_type": "code",
   "execution_count": 15,
   "id": "17e10b95",
   "metadata": {},
   "outputs": [
    {
     "name": "stderr",
     "output_type": "stream",
     "text": [
      "/tmp/ipykernel_6182/3904903070.py:2: RuntimeWarning: overflow encountered in exp\n",
      "  vector_out = 1/(1+np.exp(-vector_in))\n"
     ]
    },
    {
     "name": "stdout",
     "output_type": "stream",
     "text": [
      "Numpy time cost = 12.260785818099976s\n",
      "FPGA time cost = 0.0884552001953125s\n",
      "Numpy throughput = 0.3420909607447968M\n",
      "FPGA throughput cost = 47.41726875004312M\n",
      "acceleration ratio = 138.6101189192686\n",
      "error = 4.593223112589297e-08\n"
     ]
    }
   ],
   "source": [
    "vector_in_len = 512\n",
    "vector_out_len = 16\n",
    "sigmoid_switch = 1\n",
    "numpy_fpga_test(vector_in_len, vector_out_len, sigmoid_switch)"
   ]
  },
  {
   "cell_type": "code",
   "execution_count": 16,
   "id": "3b16eeb3",
   "metadata": {},
   "outputs": [
    {
     "name": "stderr",
     "output_type": "stream",
     "text": [
      "/tmp/ipykernel_6182/3904903070.py:2: RuntimeWarning: overflow encountered in exp\n",
      "  vector_out = 1/(1+np.exp(-vector_in))\n"
     ]
    },
    {
     "name": "stdout",
     "output_type": "stream",
     "text": [
      "Numpy time cost = 12.25828218460083s\n",
      "FPGA time cost = 0.08831477165222168s\n",
      "Numpy throughput = 0.34216082945691956M\n",
      "FPGA throughput cost = 47.49266653280744M\n",
      "acceleration ratio = 138.8021726747278\n",
      "error = 4.593223112589297e-08\n"
     ]
    }
   ],
   "source": [
    "vector_in_len = 512\n",
    "vector_out_len = 32\n",
    "sigmoid_switch = 1\n",
    "numpy_fpga_test(vector_in_len, vector_out_len, sigmoid_switch)"
   ]
  },
  {
   "cell_type": "code",
   "execution_count": 17,
   "id": "521a0433",
   "metadata": {},
   "outputs": [
    {
     "name": "stderr",
     "output_type": "stream",
     "text": [
      "/tmp/ipykernel_6182/3904903070.py:2: RuntimeWarning: overflow encountered in exp\n",
      "  vector_out = 1/(1+np.exp(-vector_in))\n"
     ]
    },
    {
     "name": "stdout",
     "output_type": "stream",
     "text": [
      "Numpy time cost = 11.975296974182129s\n",
      "FPGA time cost = 0.08850908279418945s\n",
      "Numpy throughput = 0.3502463453760366M\n",
      "FPGA throughput cost = 47.388402044036916M\n",
      "acceleration ratio = 135.300204183884\n",
      "error = 4.593223112589297e-08\n"
     ]
    }
   ],
   "source": [
    "vector_in_len = 512\n",
    "vector_out_len = 64\n",
    "sigmoid_switch = 1\n",
    "numpy_fpga_test(vector_in_len, vector_out_len, sigmoid_switch)"
   ]
  }
 ],
 "metadata": {
  "kernelspec": {
   "display_name": "Python 3 (ipykernel)",
   "language": "python",
   "name": "python3"
  },
  "language_info": {
   "codemirror_mode": {
    "name": "ipython",
    "version": 3
   },
   "file_extension": ".py",
   "mimetype": "text/x-python",
   "name": "python",
   "nbconvert_exporter": "python",
   "pygments_lexer": "ipython3",
   "version": "3.10.4"
  }
 },
 "nbformat": 4,
 "nbformat_minor": 5
}
